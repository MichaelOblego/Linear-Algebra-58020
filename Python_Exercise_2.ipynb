{
  "nbformat": 4,
  "nbformat_minor": 0,
  "metadata": {
    "colab": {
      "name": "Python Exercise 2.ipynb",
      "provenance": [],
      "authorship_tag": "ABX9TyPSpycVg6lov5qYBD8ZZ5w7",
      "include_colab_link": true
    },
    "kernelspec": {
      "name": "python3",
      "display_name": "Python 3"
    },
    "language_info": {
      "name": "python"
    }
  },
  "cells": [
    {
      "cell_type": "markdown",
      "metadata": {
        "id": "view-in-github",
        "colab_type": "text"
      },
      "source": [
        "<a href=\"https://colab.research.google.com/github/MichaelOblego/Linear-Algebra-58020/blob/main/Python_Exercise_2.ipynb\" target=\"_parent\"><img src=\"https://colab.research.google.com/assets/colab-badge.svg\" alt=\"Open In Colab\"/></a>"
      ]
    },
    {
      "cell_type": "code",
      "metadata": {
        "id": "g83hQAf9CIeN"
      },
      "source": [
        "import numpy as np"
      ],
      "execution_count": 1,
      "outputs": []
    },
    {
      "cell_type": "code",
      "metadata": {
        "colab": {
          "base_uri": "https://localhost:8080/"
        },
        "id": "wj5E6ydCCMWg",
        "outputId": "d05b711f-3512-44a1-92e5-5d888315d412"
      },
      "source": [
        "A = np.array ([4,3])\n",
        "B = np.array ([2,-5])\n",
        "print ('Vector A is',A)\n",
        "print ('Vector B is',B)"
      ],
      "execution_count": 2,
      "outputs": [
        {
          "output_type": "stream",
          "name": "stdout",
          "text": [
            "Vector A is [4 3]\n",
            "Vector B is [ 2 -5]\n"
          ]
        }
      ]
    },
    {
      "cell_type": "code",
      "metadata": {
        "colab": {
          "base_uri": "https://localhost:8080/"
        },
        "id": "LQFyIShaCOY7",
        "outputId": "cb7910c6-0888-452a-e380-2b02df1e3818"
      },
      "source": [
        "ball1 = np.array ([1,2,3])\n",
        "ball2 = np.array ([0,1,-1])\n",
        "\n",
        "pool = np.array ([ball1,ball2])\n",
        "print(pool.shape)\n",
        "print(pool.size)\n",
        "print(pool.ndim)"
      ],
      "execution_count": 3,
      "outputs": [
        {
          "output_type": "stream",
          "name": "stdout",
          "text": [
            "(2, 3)\n",
            "6\n",
            "2\n"
          ]
        }
      ]
    },
    {
      "cell_type": "code",
      "metadata": {
        "colab": {
          "base_uri": "https://localhost:8080/"
        },
        "id": "w8rbh71bCQwL",
        "outputId": "c23ab87c-402e-4b9a-dd5f-d674c51fee43"
      },
      "source": [
        "R = A+B\n",
        "print(R)"
      ],
      "execution_count": 4,
      "outputs": [
        {
          "output_type": "stream",
          "name": "stdout",
          "text": [
            "[ 6 -2]\n"
          ]
        }
      ]
    },
    {
      "cell_type": "markdown",
      "metadata": {
        "id": "s_r79oa4FPyZ"
      },
      "source": [
        "Vector Addition"
      ]
    },
    {
      "cell_type": "code",
      "metadata": {
        "colab": {
          "base_uri": "https://localhost:8080/"
        },
        "id": "-enUUvsuCTHd",
        "outputId": "ec9967cc-c342-4368-c028-3d83d95ddb86"
      },
      "source": [
        "R = np.add(A,B)\n",
        "R"
      ],
      "execution_count": 6,
      "outputs": [
        {
          "output_type": "execute_result",
          "data": {
            "text/plain": [
              "array([ 6, -2])"
            ]
          },
          "metadata": {},
          "execution_count": 6
        }
      ]
    },
    {
      "cell_type": "markdown",
      "metadata": {
        "id": "m3q7ZiRrFVzi"
      },
      "source": [
        "Vector Subtraction"
      ]
    },
    {
      "cell_type": "code",
      "metadata": {
        "colab": {
          "base_uri": "https://localhost:8080/"
        },
        "id": "0Y4U8XDLCaGt",
        "outputId": "87157983-6974-40ce-dceb-ead2ca9b4852"
      },
      "source": [
        "R = np.subtract(A,B)\n",
        "R"
      ],
      "execution_count": 7,
      "outputs": [
        {
          "output_type": "execute_result",
          "data": {
            "text/plain": [
              "array([2, 8])"
            ]
          },
          "metadata": {},
          "execution_count": 7
        }
      ]
    },
    {
      "cell_type": "markdown",
      "metadata": {
        "id": "sj4pqi7yF6qT"
      },
      "source": [
        "Vector Scaling"
      ]
    },
    {
      "cell_type": "code",
      "metadata": {
        "colab": {
          "base_uri": "https://localhost:8080/"
        },
        "id": "m-o2IbZxF8e_",
        "outputId": "b81a5a03-0999-4555-c5b1-40e34b817469"
      },
      "source": [
        "A = np.array ([1,5,8,9])\n",
        "S = 5*A\n",
        "print(S)"
      ],
      "execution_count": 8,
      "outputs": [
        {
          "output_type": "stream",
          "name": "stdout",
          "text": [
            "[ 5 25 40 45]\n"
          ]
        }
      ]
    },
    {
      "cell_type": "code",
      "metadata": {
        "colab": {
          "base_uri": "https://localhost:8080/"
        },
        "id": "MnPw8r6VGBkh",
        "outputId": "cda6fb97-6a3a-41a7-c158-06bfcac4dcff"
      },
      "source": [
        "S = np.multiply(5,A)\n",
        "print(S)"
      ],
      "execution_count": 9,
      "outputs": [
        {
          "output_type": "stream",
          "name": "stdout",
          "text": [
            "[ 5 25 40 45]\n"
          ]
        }
      ]
    },
    {
      "cell_type": "markdown",
      "metadata": {
        "id": "G8kHQwOWGDP4"
      },
      "source": [
        "#Vector Cross Product"
      ]
    },
    {
      "cell_type": "code",
      "metadata": {
        "colab": {
          "base_uri": "https://localhost:8080/"
        },
        "id": "a3xdbS5lGeqF",
        "outputId": "a88870f2-614c-4d04-e863-8bc4ed3d274d"
      },
      "source": [
        "#initialize arrays\n",
        "A = np.array([2,7])\n",
        "B = np.array([1,7])\n",
        "\n",
        "#compute cross product\n",
        "output = np.cross(A,B)\n",
        "print(output)"
      ],
      "execution_count": 10,
      "outputs": [
        {
          "output_type": "stream",
          "name": "stdout",
          "text": [
            "7\n"
          ]
        }
      ]
    },
    {
      "cell_type": "code",
      "metadata": {
        "colab": {
          "base_uri": "https://localhost:8080/"
        },
        "id": "-ADLvCF2GlvM",
        "outputId": "75129501-0e6c-46b8-ff0c-b1caffc934d3"
      },
      "source": [
        "output = np.dot(A,B) #compute the dot product of A and B\n",
        "print(output)"
      ],
      "execution_count": 11,
      "outputs": [
        {
          "output_type": "stream",
          "name": "stdout",
          "text": [
            "51\n"
          ]
        }
      ]
    }
  ]
}