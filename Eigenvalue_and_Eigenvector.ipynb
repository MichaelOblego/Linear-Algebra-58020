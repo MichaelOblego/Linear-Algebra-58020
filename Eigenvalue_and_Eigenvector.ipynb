{
  "nbformat": 4,
  "nbformat_minor": 0,
  "metadata": {
    "colab": {
      "name": "Eigenvalue and Eigenvector.ipynb",
      "provenance": [],
      "authorship_tag": "ABX9TyOD5rPqHzc4GhJtFs9vRW9i",
      "include_colab_link": true
    },
    "kernelspec": {
      "name": "python3",
      "display_name": "Python 3"
    },
    "language_info": {
      "name": "python"
    }
  },
  "cells": [
    {
      "cell_type": "markdown",
      "metadata": {
        "id": "view-in-github",
        "colab_type": "text"
      },
      "source": [
        "<a href=\"https://colab.research.google.com/github/MichaelOblego/Linear-Algebra-58020/blob/main/Eigenvalue_and_Eigenvector.ipynb\" target=\"_parent\"><img src=\"https://colab.research.google.com/assets/colab-badge.svg\" alt=\"Open In Colab\"/></a>"
      ]
    },
    {
      "cell_type": "code",
      "metadata": {
        "colab": {
          "base_uri": "https://localhost:8080/"
        },
        "id": "saIPkD121NA1",
        "outputId": "a9121473-7601-4979-c653-67f5448111c1"
      },
      "source": [
        "import numpy as LA\n",
        "from numpy.linalg import eig\n",
        "A = LA.array([[-12,3],[4,1]])\n",
        "print(A)\n",
        "\n",
        "inv_A = LA.linalg.inv(A)\n",
        "print(inv_A)\n",
        "\n",
        "B = LA.array([[0],[0]])\n",
        "print(B)"
      ],
      "execution_count": 2,
      "outputs": [
        {
          "output_type": "stream",
          "name": "stdout",
          "text": [
            "[[-12   3]\n",
            " [  4   1]]\n",
            "[[-0.04166667  0.125     ]\n",
            " [ 0.16666667  0.5       ]]\n",
            "[[0]\n",
            " [0]]\n"
          ]
        }
      ]
    },
    {
      "cell_type": "code",
      "metadata": {
        "colab": {
          "base_uri": "https://localhost:8080/"
        },
        "id": "nfWBBlyh1VFY",
        "outputId": "1943a01b-37a5-46db-872a-c500881b9b3d"
      },
      "source": [
        "A = LA.array([[-6,3],[4,5]])\n",
        "print(A)\n",
        "\n",
        "w,v = LA.linalg.eig(A)\n",
        "print(\"The eigenvalue is/are\",w)\n",
        "print(\"The eigenvectors is/are\",v)"
      ],
      "execution_count": 3,
      "outputs": [
        {
          "output_type": "stream",
          "name": "stdout",
          "text": [
            "[[-6  3]\n",
            " [ 4  5]]\n",
            "The eigenvalue is/are [-7.  6.]\n",
            "The eigenvectors is/are [[-0.9486833  -0.24253563]\n",
            " [ 0.31622777 -0.9701425 ]]\n"
          ]
        }
      ]
    },
    {
      "cell_type": "code",
      "metadata": {
        "colab": {
          "base_uri": "https://localhost:8080/"
        },
        "id": "ZwICbJX-1iHY",
        "outputId": "7b759412-3704-4916-f338-80f11396bbcd"
      },
      "source": [
        "A = LA.array([[2,2,4],[1,3,5],[2,3,4]])\n",
        "print(A)\n",
        "s,t = LA.linalg.eig(A)\n",
        "print(s.round())\n",
        "print(t.round())\n",
        "c=LA.dot(A,t.round())\n",
        "print(c)"
      ],
      "execution_count": 5,
      "outputs": [
        {
          "output_type": "stream",
          "name": "stdout",
          "text": [
            "[[2 2 4]\n",
            " [1 3 5]\n",
            " [2 3 4]]\n",
            "[ 9.  1. -1.]\n",
            "[[-1. -1. -0.]\n",
            " [-1.  1. -1.]\n",
            " [-1. -0.  1.]]\n",
            "[[-8.  0.  2.]\n",
            " [-9.  2.  2.]\n",
            " [-9.  1.  1.]]\n"
          ]
        }
      ]
    },
    {
      "cell_type": "code",
      "metadata": {
        "colab": {
          "base_uri": "https://localhost:8080/"
        },
        "id": "YJCMRhls1r2Z",
        "outputId": "92e993a3-1348-4d82-a81e-57f91ef2bbd4"
      },
      "source": [
        "f = LA.array([[-1],[-1],[-1]])\n",
        "print(f)\n",
        "g=LA.dot(A,f)\n",
        "print(g)"
      ],
      "execution_count": 6,
      "outputs": [
        {
          "output_type": "stream",
          "name": "stdout",
          "text": [
            "[[-1]\n",
            " [-1]\n",
            " [-1]]\n",
            "[[-8]\n",
            " [-9]\n",
            " [-9]]\n"
          ]
        }
      ]
    }
  ]
}