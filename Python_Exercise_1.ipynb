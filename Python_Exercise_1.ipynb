{
  "nbformat": 4,
  "nbformat_minor": 0,
  "metadata": {
    "colab": {
      "name": "Python Exercise 1.ipynb",
      "provenance": [],
      "authorship_tag": "ABX9TyPdUCKnZzPiRGJBSMvnrBA2",
      "include_colab_link": true
    },
    "kernelspec": {
      "name": "python3",
      "display_name": "Python 3"
    },
    "language_info": {
      "name": "python"
    }
  },
  "cells": [
    {
      "cell_type": "markdown",
      "metadata": {
        "id": "view-in-github",
        "colab_type": "text"
      },
      "source": [
        "<a href=\"https://colab.research.google.com/github/MichaelOblego/Linear-Algebra-58020/blob/main/Python_Exercise_1.ipynb\" target=\"_parent\"><img src=\"https://colab.research.google.com/assets/colab-badge.svg\" alt=\"Open In Colab\"/></a>"
      ]
    },
    {
      "cell_type": "code",
      "metadata": {
        "id": "pWcRQbviLjtm"
      },
      "source": [
        "import numpy as LA"
      ],
      "execution_count": 16,
      "outputs": []
    },
    {
      "cell_type": "code",
      "metadata": {
        "colab": {
          "base_uri": "https://localhost:8080/"
        },
        "id": "yK4n2F9YOZwI",
        "outputId": "e540fd57-fb57-4910-e585-b00fc7906dcf"
      },
      "source": [
        "#Sum\n",
        "A = LA.array([[-5,0],[4,1]])\n",
        "B = LA.array([[6,3],[2,3]])\n",
        "print(A+B)"
      ],
      "execution_count": 17,
      "outputs": [
        {
          "output_type": "stream",
          "name": "stdout",
          "text": [
            "[[1 3]\n",
            " [6 4]]\n"
          ]
        }
      ]
    },
    {
      "cell_type": "code",
      "metadata": {
        "colab": {
          "base_uri": "https://localhost:8080/"
        },
        "id": "HhtmvljuP13B",
        "outputId": "94da6183-9cfa-41cd-fd7e-5ec800b920a9"
      },
      "source": [
        "#Difference1\n",
        "A = LA.array([[-5,0],[4,1]])\n",
        "B = LA.array([[6,-3],[2,3]])\n",
        "print(A-B)"
      ],
      "execution_count": 18,
      "outputs": [
        {
          "output_type": "stream",
          "name": "stdout",
          "text": [
            "[[-11   3]\n",
            " [  2  -2]]\n"
          ]
        }
      ]
    },
    {
      "cell_type": "code",
      "metadata": {
        "colab": {
          "base_uri": "https://localhost:8080/"
        },
        "id": "nKLmx23ZP-cU",
        "outputId": "65e7dbf7-d01b-4e26-99b5-e49b9e029b54"
      },
      "source": [
        "#Difference2\n",
        "A = LA.array([[-5,0],[4,1]])\n",
        "B = LA.array([[6,-3],[2,3]])\n",
        "print(B-B)"
      ],
      "execution_count": 19,
      "outputs": [
        {
          "output_type": "stream",
          "name": "stdout",
          "text": [
            "[[0 0]\n",
            " [0 0]]\n"
          ]
        }
      ]
    }
  ]
}