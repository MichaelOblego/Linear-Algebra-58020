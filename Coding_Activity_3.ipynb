{
  "nbformat": 4,
  "nbformat_minor": 0,
  "metadata": {
    "colab": {
      "name": "Coding Activity 3.ipynb",
      "provenance": [],
      "authorship_tag": "ABX9TyMBjRlPkqDt56/0GmNVAnZX",
      "include_colab_link": true
    },
    "kernelspec": {
      "name": "python3",
      "display_name": "Python 3"
    },
    "language_info": {
      "name": "python"
    }
  },
  "cells": [
    {
      "cell_type": "markdown",
      "metadata": {
        "id": "view-in-github",
        "colab_type": "text"
      },
      "source": [
        "<a href=\"https://colab.research.google.com/github/MichaelOblego/Linear-Algebra-58020/blob/main/Coding_Activity_3.ipynb\" target=\"_parent\"><img src=\"https://colab.research.google.com/assets/colab-badge.svg\" alt=\"Open In Colab\"/></a>"
      ]
    },
    {
      "cell_type": "markdown",
      "metadata": {
        "id": "dWvCvhV6Vr8H"
      },
      "source": [
        "#Python program to Inverse"
      ]
    },
    {
      "cell_type": "code",
      "metadata": {
        "id": "LTtwvSQGU_JO"
      },
      "source": [
        "import numpy as LA\n"
      ],
      "execution_count": 2,
      "outputs": []
    },
    {
      "cell_type": "code",
      "metadata": {
        "colab": {
          "base_uri": "https://localhost:8080/"
        },
        "id": "Ihp6CotjVPZ3",
        "outputId": "5fe00002-79a2-4065-83e5-36993a83af46"
      },
      "source": [
        "A = LA.array([[1,2,-1],[2,5,1],[-1,-2,2]])\n",
        "print ('The matrix:')\n",
        "print (A)\n",
        "print ('Inverse of the matrix:')\n",
        "print(LA.linalg.inv([[1,2,-1],[2,5,1],[-1,-2,2]]))"
      ],
      "execution_count": 8,
      "outputs": [
        {
          "output_type": "stream",
          "name": "stdout",
          "text": [
            "The matrix:\n",
            "[[ 1  2 -1]\n",
            " [ 2  5  1]\n",
            " [-1 -2  2]]\n",
            "Inverse of the matrix:\n",
            "[[12. -2.  7.]\n",
            " [-5.  1. -3.]\n",
            " [ 1.  0.  1.]]\n"
          ]
        }
      ]
    },
    {
      "cell_type": "code",
      "metadata": {
        "colab": {
          "base_uri": "https://localhost:8080/"
        },
        "id": "5Am-_TieVlUH",
        "outputId": "a56f19fd-c0b6-4609-9428-2572d1b374fd"
      },
      "source": [
        "B = LA.transpose(A)\n",
        "print ('Transpose of matrix:')\n",
        "print(B)"
      ],
      "execution_count": 9,
      "outputs": [
        {
          "output_type": "stream",
          "name": "stdout",
          "text": [
            "Transpose of matrix:\n",
            "[[ 1  2 -1]\n",
            " [ 2  5 -2]\n",
            " [-1  1  2]]\n"
          ]
        }
      ]
    }
  ]
}