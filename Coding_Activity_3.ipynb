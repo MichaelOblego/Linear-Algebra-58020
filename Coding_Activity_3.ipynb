{
  "nbformat": 4,
  "nbformat_minor": 0,
  "metadata": {
    "colab": {
      "name": "Coding Activity 3.ipynb",
      "provenance": [],
      "authorship_tag": "ABX9TyNN7CqcwTykNHhBQQQyrPQQ",
      "include_colab_link": true
    },
    "kernelspec": {
      "name": "python3",
      "display_name": "Python 3"
    },
    "language_info": {
      "name": "python"
    }
  },
  "cells": [
    {
      "cell_type": "markdown",
      "metadata": {
        "id": "view-in-github",
        "colab_type": "text"
      },
      "source": [
        "<a href=\"https://colab.research.google.com/github/MichaelOblego/Linear-Algebra-58020/blob/main/Coding_Activity_3.ipynb\" target=\"_parent\"><img src=\"https://colab.research.google.com/assets/colab-badge.svg\" alt=\"Open In Colab\"/></a>"
      ]
    },
    {
      "cell_type": "markdown",
      "metadata": {
        "id": "dWvCvhV6Vr8H"
      },
      "source": [
        "#Python program to Inverse"
      ]
    },
    {
      "cell_type": "code",
      "metadata": {
        "id": "LTtwvSQGU_JO"
      },
      "source": [
        "import numpy as LA\n"
      ],
      "execution_count": 2,
      "outputs": []
    },
    {
      "cell_type": "markdown",
      "metadata": {
        "id": "bnjxTTkWictl"
      },
      "source": [
        "3x3"
      ]
    },
    {
      "cell_type": "code",
      "metadata": {
        "colab": {
          "base_uri": "https://localhost:8080/"
        },
        "id": "Ihp6CotjVPZ3",
        "outputId": "38f156d8-bfcb-48f2-85f4-ddd14de803f5"
      },
      "source": [
        "A = LA.array([[4,5,-6],[2,5,1],[-1,-2,2]])\n",
        "print ('The matrix:')\n",
        "print (A)\n",
        "print ('Inverse of the matrix:')\n",
        "print(LA.linalg.inv([[4,5,-6],[2,5,1],[-1,-2,2]]))"
      ],
      "execution_count": 19,
      "outputs": [
        {
          "output_type": "stream",
          "name": "stdout",
          "text": [
            "The matrix:\n",
            "[[ 4  5 -6]\n",
            " [ 2  5  1]\n",
            " [-1 -2  2]]\n",
            "Inverse of the matrix:\n",
            "[[ 0.70588235  0.11764706  2.05882353]\n",
            " [-0.29411765  0.11764706 -0.94117647]\n",
            " [ 0.05882353  0.17647059  0.58823529]]\n"
          ]
        }
      ]
    },
    {
      "cell_type": "code",
      "metadata": {
        "colab": {
          "base_uri": "https://localhost:8080/"
        },
        "id": "5Am-_TieVlUH",
        "outputId": "5af8933a-5ad5-4d97-eee8-5aa0fb82a9c3"
      },
      "source": [
        "B = LA.transpose(A)\n",
        "print ('Transpose of matrix:')\n",
        "print(B)"
      ],
      "execution_count": 20,
      "outputs": [
        {
          "output_type": "stream",
          "name": "stdout",
          "text": [
            "Transpose of matrix:\n",
            "[[ 4  2 -1]\n",
            " [ 5  5 -2]\n",
            " [-6  1  2]]\n"
          ]
        }
      ]
    },
    {
      "cell_type": "markdown",
      "metadata": {
        "id": "oXyj56XkieXK"
      },
      "source": [
        "4x4"
      ]
    },
    {
      "cell_type": "code",
      "metadata": {
        "colab": {
          "base_uri": "https://localhost:8080/"
        },
        "id": "RItlGGUwifkG",
        "outputId": "3229a1ab-636d-4f3e-fa88-ec88846a7e15"
      },
      "source": [
        "A = LA.array([[3,-2,1,4],[6,7,-8,9],[4,5,6,-7],[9,-8,7,6]])\n",
        "print(A)"
      ],
      "execution_count": 21,
      "outputs": [
        {
          "output_type": "stream",
          "name": "stdout",
          "text": [
            "[[ 3 -2  1  4]\n",
            " [ 6  7 -8  9]\n",
            " [ 4  5  6 -7]\n",
            " [ 9 -8  7  6]]\n"
          ]
        }
      ]
    },
    {
      "cell_type": "code",
      "metadata": {
        "colab": {
          "base_uri": "https://localhost:8080/"
        },
        "id": "Wsooni16ioRj",
        "outputId": "2031f657-274e-4d84-b487-702234de6aa2"
      },
      "source": [
        "A_inv = LA.linalg.inv(A)\n",
        "\n",
        "print(\"Matrix: \\n\",A)\n",
        "print(\"Inverse: \\n\",A_inv)\n",
        "\n",
        "x = LA.dot(A, A_inv)\n",
        "y = LA.array(x, dtype=int) \n",
        "print(\"Check: \\n\",y)"
      ],
      "execution_count": 22,
      "outputs": [
        {
          "output_type": "stream",
          "name": "stdout",
          "text": [
            "Matrix: \n",
            " [[ 3 -2  1  4]\n",
            " [ 6  7 -8  9]\n",
            " [ 4  5  6 -7]\n",
            " [ 9 -8  7  6]]\n",
            "Inverse: \n",
            " [[-0.875       0.14506173 -0.03703704  0.32253086]\n",
            " [ 0.75       -0.04938272  0.12962963 -0.27469136]\n",
            " [ 1.125      -0.16358025  0.14814815 -0.33179012]\n",
            " [ 1.         -0.09259259  0.05555556 -0.2962963 ]]\n",
            "Check: \n",
            " [[0 0 0 0]\n",
            " [0 0 0 0]\n",
            " [0 0 0 0]\n",
            " [0 0 0 0]]\n"
          ]
        }
      ]
    },
    {
      "cell_type": "code",
      "metadata": {
        "colab": {
          "base_uri": "https://localhost:8080/"
        },
        "id": "udfAM7krjbDk",
        "outputId": "08417fde-29d9-4a1a-8331-b4cabb7e652a"
      },
      "source": [
        "\n",
        "A_trans = LA.transpose(A)\n",
        "print(\"Matrix: \\n\",A)\n",
        "print(\"Transposed: \\n\",A_trans)"
      ],
      "execution_count": 23,
      "outputs": [
        {
          "output_type": "stream",
          "name": "stdout",
          "text": [
            "Matrix: \n",
            " [[ 3 -2  1  4]\n",
            " [ 6  7 -8  9]\n",
            " [ 4  5  6 -7]\n",
            " [ 9 -8  7  6]]\n",
            "Transposed: \n",
            " [[ 3  6  4  9]\n",
            " [-2  7  5 -8]\n",
            " [ 1 -8  6  7]\n",
            " [ 4  9 -7  6]]\n"
          ]
        }
      ]
    }
  ]
}