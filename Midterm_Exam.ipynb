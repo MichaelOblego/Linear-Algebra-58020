{
  "nbformat": 4,
  "nbformat_minor": 0,
  "metadata": {
    "colab": {
      "name": "Midterm Exam.ipynb",
      "provenance": [],
      "authorship_tag": "ABX9TyOoONXQyFuglRy5yt8RLmzV",
      "include_colab_link": true
    },
    "kernelspec": {
      "name": "python3",
      "display_name": "Python 3"
    },
    "language_info": {
      "name": "python"
    }
  },
  "cells": [
    {
      "cell_type": "markdown",
      "metadata": {
        "id": "view-in-github",
        "colab_type": "text"
      },
      "source": [
        "<a href=\"https://colab.research.google.com/github/MichaelOblego/Linear-Algebra-58020/blob/main/Midterm_Exam.ipynb\" target=\"_parent\"><img src=\"https://colab.research.google.com/assets/colab-badge.svg\" alt=\"Open In Colab\"/></a>"
      ]
    },
    {
      "cell_type": "markdown",
      "metadata": {
        "id": "x4dmR3qQ58cX"
      },
      "source": [
        "#Midterm Exam"
      ]
    },
    {
      "cell_type": "code",
      "metadata": {
        "id": "Vi6UH7Jt6Kr5"
      },
      "source": [
        "import numpy as LA"
      ],
      "execution_count": 4,
      "outputs": []
    },
    {
      "cell_type": "markdown",
      "metadata": {
        "id": "HmqWms4z6AaL"
      },
      "source": [
        "Question 1"
      ]
    },
    {
      "cell_type": "code",
      "metadata": {
        "colab": {
          "base_uri": "https://localhost:8080/"
        },
        "id": "95N6fN1f5gPD",
        "outputId": "7600b3e3-be6d-430d-f1bc-c7c643c0ba40"
      },
      "source": [
        "smatrix = LA.identity(5)\n",
        "print(f'Square Matrix whose length is 5: \\n{smatrix}')"
      ],
      "execution_count": 27,
      "outputs": [
        {
          "output_type": "stream",
          "name": "stdout",
          "text": [
            "Square Matrix whose length is 5: \n",
            "[[1. 0. 0. 0. 0.]\n",
            " [0. 1. 0. 0. 0.]\n",
            " [0. 0. 1. 0. 0.]\n",
            " [0. 0. 0. 1. 0.]\n",
            " [0. 0. 0. 0. 1.]]\n"
          ]
        }
      ]
    },
    {
      "cell_type": "markdown",
      "metadata": {
        "id": "uptnu1sv6Cwd"
      },
      "source": [
        "Question 2"
      ]
    },
    {
      "cell_type": "code",
      "metadata": {
        "colab": {
          "base_uri": "https://localhost:8080/"
        },
        "id": "nEsRRnIQ6EhY",
        "outputId": "cc4043da-e7db-482b-a177-f55dc3413bf8"
      },
      "source": [
        "utmatrix = LA.array([[1,2,3],\n",
        "                    [0,3,1],\n",
        "                    [0,0,5]])\n",
        "print(utmatrix)"
      ],
      "execution_count": 31,
      "outputs": [
        {
          "output_type": "stream",
          "name": "stdout",
          "text": [
            "[[1 2 3]\n",
            " [0 3 1]\n",
            " [0 0 5]]\n"
          ]
        }
      ]
    },
    {
      "cell_type": "markdown",
      "metadata": {
        "id": "2v5uo3hY6E6m"
      },
      "source": [
        "Question 3"
      ]
    },
    {
      "cell_type": "code",
      "metadata": {
        "colab": {
          "base_uri": "https://localhost:8080/"
        },
        "id": "uY_8fv5n6GTz",
        "outputId": "46772f21-0706-4f94-934f-982295638e55"
      },
      "source": [
        "smatrix =LA.array ([[1,2,3,4,5],\n",
        "                         [2,1,2,3,4],\n",
        "                         [3,2,1,2,3],\n",
        "                         [4,3,2,1,2],\n",
        "                         [5,4,3,2,1]])\n",
        "print('the square matrix which is symmetrical')\n",
        "print(smatrix)"
      ],
      "execution_count": 29,
      "outputs": [
        {
          "output_type": "stream",
          "name": "stdout",
          "text": [
            "the square matrix which is symmetrical\n",
            "[[1 2 3 4 5]\n",
            " [2 1 2 3 4]\n",
            " [3 2 1 2 3]\n",
            " [4 3 2 1 2]\n",
            " [5 4 3 2 1]]\n"
          ]
        }
      ]
    },
    {
      "cell_type": "markdown",
      "metadata": {
        "id": "HfkWgvz56Gf6"
      },
      "source": [
        "Question 4"
      ]
    },
    {
      "cell_type": "code",
      "metadata": {
        "colab": {
          "base_uri": "https://localhost:8080/"
        },
        "id": "qwOB_YeT6IiY",
        "outputId": "273a447d-3dc1-4a59-81ae-7d0b3acffdc2"
      },
      "source": [
        "C = LA.array ([[1,2,3],[2,3,3],[3,4,-2]])\n",
        "\n",
        "inverseC = LA.linalg.inv(C) \n",
        "\n",
        "print(inverseC)"
      ],
      "execution_count": 21,
      "outputs": [
        {
          "output_type": "stream",
          "name": "stdout",
          "text": [
            "[[-3.6  3.2 -0.6]\n",
            " [ 2.6 -2.2  0.6]\n",
            " [-0.2  0.4 -0.2]]\n"
          ]
        }
      ]
    },
    {
      "cell_type": "markdown",
      "metadata": {
        "id": "3tL5Gqw06tym"
      },
      "source": [
        "Question 5"
      ]
    },
    {
      "cell_type": "code",
      "metadata": {
        "colab": {
          "base_uri": "https://localhost:8080/"
        },
        "id": "K5T92h-x6w-r",
        "outputId": "e1f33a67-dcf8-4b55-b771-323c4ee4afa2"
      },
      "source": [
        "C = LA.array ([[1,2,3],[2,3,3],[3,4,-2]])\n",
        "\n",
        "detC = LA.linalg.det(C)\n",
        "\n",
        "print(\"Determinant of the given matrix in Question 4:  \")\n",
        "print(int(detC))"
      ],
      "execution_count": 22,
      "outputs": [
        {
          "output_type": "stream",
          "name": "stdout",
          "text": [
            "Determinant of the given matrix in Question 4:  \n",
            "5\n"
          ]
        }
      ]
    },
    {
      "cell_type": "markdown",
      "metadata": {
        "id": "noC2VCN56xnX"
      },
      "source": [
        "Question 6"
      ]
    },
    {
      "cell_type": "code",
      "metadata": {
        "colab": {
          "base_uri": "https://localhost:8080/"
        },
        "id": "Vz_A_Zui6zF_",
        "outputId": "f2179a80-a26f-41eb-9e6b-7f926731d6d2"
      },
      "source": [
        "Eq = LA.array([[5,4,1],\n",
        "                      [10,9,4],\n",
        "                      [10,13,15]])\n",
        "\n",
        "Con = LA.array([[[3.4],\n",
        "                       [8.8],\n",
        "                       [19.2]]])\n",
        "\n",
        "roots = LA.linalg.inv(Eq) @Con\n",
        "\n",
        "print(roots)"
      ],
      "execution_count": 26,
      "outputs": [
        {
          "output_type": "stream",
          "name": "stdout",
          "text": [
            "[[[0.2]\n",
            "  [0.4]\n",
            "  [0.8]]]\n"
          ]
        }
      ]
    }
  ]
}