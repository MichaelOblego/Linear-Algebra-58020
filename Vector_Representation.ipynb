{
  "nbformat": 4,
  "nbformat_minor": 0,
  "metadata": {
    "colab": {
      "name": "Vector Representation.ipynb",
      "provenance": [],
      "authorship_tag": "ABX9TyNhkMme+YX+vSCwng049+zw",
      "include_colab_link": true
    },
    "kernelspec": {
      "name": "python3",
      "display_name": "Python 3"
    },
    "language_info": {
      "name": "python"
    }
  },
  "cells": [
    {
      "cell_type": "markdown",
      "metadata": {
        "id": "view-in-github",
        "colab_type": "text"
      },
      "source": [
        "<a href=\"https://colab.research.google.com/github/MichaelOblego/Linear-Algebra-58020/blob/main/Vector_Representation.ipynb\" target=\"_parent\"><img src=\"https://colab.research.google.com/assets/colab-badge.svg\" alt=\"Open In Colab\"/></a>"
      ]
    },
    {
      "cell_type": "code",
      "metadata": {
        "id": "BVEEPYPVGc1H"
      },
      "source": [
        "import numpy as np"
      ],
      "execution_count": 2,
      "outputs": []
    },
    {
      "cell_type": "code",
      "metadata": {
        "colab": {
          "base_uri": "https://localhost:8080/"
        },
        "id": "8_0vMNA5IVf5",
        "outputId": "62aa8b82-8802-4ffb-f4f3-7237fede5efa"
      },
      "source": [
        "## Creating a 1x3 array (matrix)\n",
        "a = np.array([1,1,1])\n",
        "print(a)"
      ],
      "execution_count": 4,
      "outputs": [
        {
          "output_type": "stream",
          "name": "stdout",
          "text": [
            "[1 1 1]\n"
          ]
        }
      ]
    },
    {
      "cell_type": "code",
      "metadata": {
        "colab": {
          "base_uri": "https://localhost:8080/"
        },
        "id": "CUEihxcQJ920",
        "outputId": "66aac1e8-ea31-449a-acba-c1fdf8389a02"
      },
      "source": [
        "## Creating a 2x3 matrix\n",
        "b = np.array([[1,1,1],[2,2,2]]) \n",
        "print(b)"
      ],
      "execution_count": 5,
      "outputs": [
        {
          "output_type": "stream",
          "name": "stdout",
          "text": [
            "[[1 1 1]\n",
            " [2 2 2]]\n"
          ]
        }
      ]
    },
    {
      "cell_type": "code",
      "metadata": {
        "colab": {
          "base_uri": "https://localhost:8080/"
        },
        "id": "speQ1IvbLD33",
        "outputId": "2aeef15b-8952-4d14-b184-93c9d9ddef51"
      },
      "source": [
        "## Creating a 3x3 matrix\n",
        "c = np.array([[1,1,1],[2,2,2],[3,3,3]])\n",
        "print(c)"
      ],
      "execution_count": 6,
      "outputs": [
        {
          "output_type": "stream",
          "name": "stdout",
          "text": [
            "[[1 1 1]\n",
            " [2 2 2]\n",
            " [3 3 3]]\n"
          ]
        }
      ]
    },
    {
      "cell_type": "code",
      "metadata": {
        "colab": {
          "base_uri": "https://localhost:8080/"
        },
        "id": "r8YNZJavLHgr",
        "outputId": "984aae20-192b-489f-c2de-99d97513fe79"
      },
      "source": [
        "## Creating a constant array with all values are constant\n",
        "d =np.full([3,3],8) ## can use []\n",
        "d_2 =np.full((3,3),0) ## <-- Square Matrix\n",
        "print(d)\n",
        "print(d_2)"
      ],
      "execution_count": 7,
      "outputs": [
        {
          "output_type": "stream",
          "name": "stdout",
          "text": [
            "[[8 8 8]\n",
            " [8 8 8]\n",
            " [8 8 8]]\n",
            "[[0 0 0]\n",
            " [0 0 0]\n",
            " [0 0 0]]\n"
          ]
        }
      ]
    },
    {
      "cell_type": "code",
      "metadata": {
        "colab": {
          "base_uri": "https://localhost:8080/"
        },
        "id": "1Bqd-HAzLLAh",
        "outputId": "9a0e57a4-eddf-4fa4-fead-2ab68be88919"
      },
      "source": [
        "## Creating a diagonal matrix\n",
        "e = np.diagonal(c)\n",
        "print(c)\n",
        "print(e)"
      ],
      "execution_count": 8,
      "outputs": [
        {
          "output_type": "stream",
          "name": "stdout",
          "text": [
            "[[1 1 1]\n",
            " [2 2 2]\n",
            " [3 3 3]]\n",
            "[1 2 3]\n"
          ]
        }
      ]
    },
    {
      "cell_type": "code",
      "metadata": {
        "colab": {
          "base_uri": "https://localhost:8080/"
        },
        "id": "47fdSHagLPE3",
        "outputId": "97e557f3-65f2-410b-8a68-4053541585f1"
      },
      "source": [
        "## Creating an identity matrix\n",
        "f = np.eye(6,dtype=int)\n",
        "print(f)"
      ],
      "execution_count": 9,
      "outputs": [
        {
          "output_type": "stream",
          "name": "stdout",
          "text": [
            "[[1 0 0 0 0 0]\n",
            " [0 1 0 0 0 0]\n",
            " [0 0 1 0 0 0]\n",
            " [0 0 0 1 0 0]\n",
            " [0 0 0 0 1 0]\n",
            " [0 0 0 0 0 1]]\n"
          ]
        }
      ]
    },
    {
      "cell_type": "code",
      "metadata": {
        "colab": {
          "base_uri": "https://localhost:8080/"
        },
        "id": "GV9mLJSxLRIJ",
        "outputId": "3e2455a8-16a1-40e7-db84-7052d6b94dfc"
      },
      "source": [
        "## Creating a zero matrix\n",
        "g = np.zeros((4,8),dtype=int)\n",
        "print(g)"
      ],
      "execution_count": 10,
      "outputs": [
        {
          "output_type": "stream",
          "name": "stdout",
          "text": [
            "[[0 0 0 0 0 0 0 0]\n",
            " [0 0 0 0 0 0 0 0]\n",
            " [0 0 0 0 0 0 0 0]\n",
            " [0 0 0 0 0 0 0 0]]\n"
          ]
        }
      ]
    },
    {
      "cell_type": "code",
      "metadata": {
        "colab": {
          "base_uri": "https://localhost:8080/"
        },
        "id": "aBz2_3-6LTnM",
        "outputId": "9cfc3e22-f854-4928-9c45-c084e7771c5e"
      },
      "source": [
        "## Creating an empty matrix\n",
        "h = np.empty((0,99))\n",
        "h_2 = np.empty((5,2)) ## ??????\n",
        "print(h)\n",
        "print(h_2)"
      ],
      "execution_count": 11,
      "outputs": [
        {
          "output_type": "stream",
          "name": "stdout",
          "text": [
            "[]\n",
            "[[4.66384841e-310 0.00000000e+000]\n",
            " [0.00000000e+000 0.00000000e+000]\n",
            " [0.00000000e+000 0.00000000e+000]\n",
            " [0.00000000e+000 0.00000000e+000]\n",
            " [0.00000000e+000 0.00000000e+000]]\n"
          ]
        }
      ]
    },
    {
      "cell_type": "code",
      "metadata": {
        "colab": {
          "base_uri": "https://localhost:8080/"
        },
        "id": "2Q78cf_zLXFe",
        "outputId": "ce636eeb-a1e0-4985-a068-f10d25a70b0e"
      },
      "source": [
        "## Addition of Matrices\n",
        "i = np.array([[1,2,3],[4,5,6],[7,8,9]])\n",
        "j = np.zeros((3,3),dtype=int) ## float + int = float; int + int = int\n",
        "print(i+j)"
      ],
      "execution_count": 12,
      "outputs": [
        {
          "output_type": "stream",
          "name": "stdout",
          "text": [
            "[[1 2 3]\n",
            " [4 5 6]\n",
            " [7 8 9]]\n"
          ]
        }
      ]
    },
    {
      "cell_type": "code",
      "metadata": {
        "id": "wk2vr5bBLZMM",
        "outputId": "df8ee3a4-6a98-4039-c151-bbc2ee470752",
        "colab": {
          "base_uri": "https://localhost:8080/"
        }
      },
      "source": [
        "## Subtraction of Matrices\n",
        "j = np.array([[-1,-2,-3],[-4,-5,-6],[-7,-8,-9]])\n",
        "print(i-j)"
      ],
      "execution_count": 13,
      "outputs": [
        {
          "output_type": "stream",
          "name": "stdout",
          "text": [
            "[[ 2  4  6]\n",
            " [ 8 10 12]\n",
            " [14 16 18]]\n"
          ]
        }
      ]
    }
  ]
}