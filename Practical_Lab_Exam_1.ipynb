{
  "nbformat": 4,
  "nbformat_minor": 0,
  "metadata": {
    "colab": {
      "name": "Practical Lab Exam 1.ipynb",
      "provenance": [],
      "authorship_tag": "ABX9TyO5SIMOUNS+sIo6yyPs50kt",
      "include_colab_link": true
    },
    "kernelspec": {
      "name": "python3",
      "display_name": "Python 3"
    },
    "language_info": {
      "name": "python"
    }
  },
  "cells": [
    {
      "cell_type": "markdown",
      "metadata": {
        "id": "view-in-github",
        "colab_type": "text"
      },
      "source": [
        "<a href=\"https://colab.research.google.com/github/MichaelOblego/Linear-Algebra-58020/blob/main/Practical_Lab_Exam_1.ipynb\" target=\"_parent\"><img src=\"https://colab.research.google.com/assets/colab-badge.svg\" alt=\"Open In Colab\"/></a>"
      ]
    },
    {
      "cell_type": "markdown",
      "metadata": {
        "id": "Q67Af9au_cl1"
      },
      "source": [
        "#Practical Lab Exam 1"
      ]
    },
    {
      "cell_type": "code",
      "metadata": {
        "id": "Wdg4takQ_bkK"
      },
      "source": [
        "import numpy as LA"
      ],
      "execution_count": 8,
      "outputs": []
    },
    {
      "cell_type": "code",
      "metadata": {
        "id": "ZkolmS6iBZxV"
      },
      "source": [
        "W = LA.array([[1,-3,0],[2,-2,0],[3,1,0]])\n",
        "X = LA.array([[3,2,1],[-1,2,3],[2,-1,1]])\n",
        "Y = LA.array([[1,2,0],[0,-1,2],[0,0,0]])\n",
        "Z = LA.array ([[0,1],[2,3]])"
      ],
      "execution_count": 13,
      "outputs": []
    },
    {
      "cell_type": "code",
      "metadata": {
        "colab": {
          "base_uri": "https://localhost:8080/"
        },
        "id": "ePHkLwo5NW9R",
        "outputId": "a35ebb37-0c66-4d10-8123-d9d09cae0373"
      },
      "source": [
        "#a\n",
        "output = LA.dot(W,Y)\n",
        "print(output)"
      ],
      "execution_count": 15,
      "outputs": [
        {
          "output_type": "stream",
          "name": "stdout",
          "text": [
            "[[ 1  5 -6]\n",
            " [ 2  6 -4]\n",
            " [ 3  5  2]]\n"
          ]
        }
      ]
    },
    {
      "cell_type": "code",
      "metadata": {
        "colab": {
          "base_uri": "https://localhost:8080/"
        },
        "id": "pGmeYpDsN0oB",
        "outputId": "3e0b4c30-8959-4eb8-9745-5d3e19dbae78"
      },
      "source": [
        "#b\n",
        "output = LA.add(Z,Z)\n",
        "print(output)"
      ],
      "execution_count": 16,
      "outputs": [
        {
          "output_type": "stream",
          "name": "stdout",
          "text": [
            "[[0 2]\n",
            " [4 6]]\n"
          ]
        }
      ]
    },
    {
      "cell_type": "code",
      "metadata": {
        "colab": {
          "base_uri": "https://localhost:8080/"
        },
        "id": "fPLAUXVON6_2",
        "outputId": "575e817c-c909-4861-b875-fc072cd02e62"
      },
      "source": [
        "#c\n",
        "output = np.dot(3,X)\n",
        "print(output)"
      ],
      "execution_count": 17,
      "outputs": [
        {
          "output_type": "stream",
          "name": "stdout",
          "text": [
            "[[ 9  6  3]\n",
            " [-3  6  9]\n",
            " [ 6 -3  3]]\n"
          ]
        }
      ]
    },
    {
      "cell_type": "markdown",
      "metadata": {
        "id": "JklWriNqN_i-"
      },
      "source": [
        "Problem #2"
      ]
    },
    {
      "cell_type": "code",
      "metadata": {
        "colab": {
          "base_uri": "https://localhost:8080/"
        },
        "id": "4xXxfrvYOCo5",
        "outputId": "b11601c8-6883-43ca-c5eb-0653ecabbb02"
      },
      "source": [
        "#a\n",
        "A1=LA.cross(W,Y)\n",
        "B2=2*A1\n",
        "print(B2)"
      ],
      "execution_count": 21,
      "outputs": [
        {
          "output_type": "stream",
          "name": "stdout",
          "text": [
            "[[ 0  0 10]\n",
            " [-8 -8 -4]\n",
            " [ 0  0  0]]\n"
          ]
        }
      ]
    },
    {
      "cell_type": "code",
      "metadata": {
        "colab": {
          "base_uri": "https://localhost:8080/"
        },
        "id": "XjfbxlUzOfDO",
        "outputId": "bb0c3004-3a2f-46b1-cb1f-7c65037593cb"
      },
      "source": [
        "#b\n",
        "C1 = LA.dot(W,Y)\n",
        "D2 = LA.subtract(C1,X)\n",
        "print(D2)"
      ],
      "execution_count": 22,
      "outputs": [
        {
          "output_type": "stream",
          "name": "stdout",
          "text": [
            "[[-2  3 -7]\n",
            " [ 3  4 -7]\n",
            " [ 1  6  1]]\n"
          ]
        }
      ]
    },
    {
      "cell_type": "code",
      "metadata": {
        "colab": {
          "base_uri": "https://localhost:8080/"
        },
        "id": "bSsQLAomOzv4",
        "outputId": "6e108410-11c9-47c5-ff46-e2237ea973ad"
      },
      "source": [
        "#c\n",
        "Z1 = LA.dot(Y,W)\n",
        "X2 = 2*Z\n",
        "Z1 = ([[5,-7],[4,4]])\n",
        "V3 = LA.subtract(Z1,X2)\n",
        "print(V3)"
      ],
      "execution_count": 23,
      "outputs": [
        {
          "output_type": "stream",
          "name": "stdout",
          "text": [
            "[[ 5 -9]\n",
            " [ 0 -2]]\n"
          ]
        }
      ]
    },
    {
      "cell_type": "markdown",
      "metadata": {
        "id": "Iu64WKDZPI7M"
      },
      "source": [
        "#Statement B is True"
      ]
    }
  ]
}
